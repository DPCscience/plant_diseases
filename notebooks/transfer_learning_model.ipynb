{
 "cells": [
  {
   "cell_type": "code",
   "execution_count": 1,
   "metadata": {},
   "outputs": [
    {
     "name": "stderr",
     "output_type": "stream",
     "text": [
      "Using TensorFlow backend.\n"
     ]
    }
   ],
   "source": [
    "import os\n",
    "import warnings\n",
    "warnings.filterwarnings(\"ignore\")\n",
    "\n",
    "import numpy as np\n",
    "import pandas as pd\n",
    "import seaborn as sns\n",
    "\n",
    "import keras\n",
    "from keras.models import Sequential, Model\n",
    "from keras.layers import Dense, Dropout, Activation, Flatten\n",
    "from keras.layers import Conv2D, MaxPooling2D, GlobalAveragePooling2D\n",
    "from keras.callbacks import EarlyStopping, ModelCheckpoint, ReduceLROnPlateau, CSVLogger\n",
    "from keras.preprocessing.image import ImageDataGenerator\n",
    "from keras.applications.inception_v3 import InceptionV3, preprocess_input\n",
    "from keras.optimizers import SGD, Adam\n",
    "\n",
    "from tqdm import tqdm\n",
    "\n",
    "%matplotlib inline\n",
    "import matplotlib\n",
    "import matplotlib.pyplot as plt\n",
    "\n",
    "sns.set_palette('muted',color_codes=True)\n",
    "vc_color = '#B5C9EB'"
   ]
  },
  {
   "cell_type": "code",
   "execution_count": 2,
   "metadata": {},
   "outputs": [],
   "source": [
    "IM_WIDTH, IM_HEIGHT = 299, 299 \n",
    "NB_EPOCHS = 25\n",
    "BATCH_SIZE = 32\n",
    "FC_SIZE = 1024\n",
    "\n",
    "TRAIN_DIR = \"./data/color/train/\"\n",
    "VAL_DIR = \"./data/color/validation/\"\n",
    "EXPORT_DIR = \"./saved_models/\""
   ]
  },
  {
   "cell_type": "code",
   "execution_count": 3,
   "metadata": {},
   "outputs": [
    {
     "name": "stdout",
     "output_type": "stream",
     "text": [
      "Number of classes: 38\n"
     ]
    }
   ],
   "source": [
    "# Get image classes\n",
    "classes = os.listdir(TRAIN_DIR)\n",
    "num_classes = len(classes)\n",
    "print(f\"Number of classes: {num_classes}\")"
   ]
  },
  {
   "cell_type": "code",
   "execution_count": 4,
   "metadata": {},
   "outputs": [
    {
     "name": "stdout",
     "output_type": "stream",
     "text": [
      "Number of train images: 38089\n",
      "Number of validation images: 16216\n"
     ]
    }
   ],
   "source": [
    "# Get path and label for each image\n",
    "db=[]\n",
    "for label, class_name in enumerate(classes):\n",
    "    \n",
    "    # Train\n",
    "    path = TRAIN_DIR + class_name\n",
    "    for file in os.listdir(path):\n",
    "        db.append(['{}/{}'.format(class_name, file), label, class_name, 1])\n",
    "\n",
    "    # Validation\n",
    "    path = VAL_DIR + class_name\n",
    "    for file in os.listdir(path):\n",
    "        db.append(['{}/{}'.format(class_name, file), label, class_name, 0])\n",
    "\n",
    "db = pd.DataFrame(db, columns=['file', 'label', 'class_name', 'train_ind'])\n",
    "\n",
    "num_train_samples = db.train_ind.sum()\n",
    "num_val_samples = len(db) - num_train_samples\n",
    "\n",
    "print(f\"Number of train images: {num_train_samples}\")\n",
    "print(f\"Number of validation images: {num_val_samples}\")"
   ]
  },
  {
   "cell_type": "code",
   "execution_count": 5,
   "metadata": {},
   "outputs": [],
   "source": [
    "# Specify data generator inputs\n",
    "train_datagen =  ImageDataGenerator(\n",
    "    preprocessing_function=preprocess_input,\n",
    "    rotation_range=30,\n",
    "    width_shift_range=0.2,\n",
    "    height_shift_range=0.2,\n",
    "    shear_range=0.2,\n",
    "    zoom_range=0.2,\n",
    "    horizontal_flip=True\n",
    ")\n",
    "test_datagen = ImageDataGenerator(\n",
    "    preprocessing_function=preprocess_input)"
   ]
  },
  {
   "cell_type": "code",
   "execution_count": 6,
   "metadata": {},
   "outputs": [
    {
     "name": "stdout",
     "output_type": "stream",
     "text": [
      "Found 38089 images belonging to 38 classes.\n",
      "Found 16216 images belonging to 38 classes.\n"
     ]
    }
   ],
   "source": [
    "# Create data generators\n",
    "train_generator = train_datagen.flow_from_directory(\n",
    "  TRAIN_DIR,\n",
    "  target_size=(IM_WIDTH, IM_HEIGHT),\n",
    "  batch_size=BATCH_SIZE,\n",
    ")\n",
    "validation_generator = test_datagen.flow_from_directory(\n",
    "  VAL_DIR,\n",
    "  target_size=(IM_WIDTH, IM_HEIGHT),\n",
    "  batch_size=BATCH_SIZE,\n",
    ")"
   ]
  },
  {
   "cell_type": "code",
   "execution_count": 7,
   "metadata": {},
   "outputs": [],
   "source": [
    "# Get Inception model without final layer\n",
    "base_model = InceptionV3(weights='imagenet', include_top=False)\n",
    "\n",
    "# Add new fully connected layer to base model\n",
    "x = base_model.output\n",
    "x = GlobalAveragePooling2D()(x)\n",
    "x = Dense(FC_SIZE, activation='relu')(x) \n",
    "predictions = Dense(num_classes, activation='softmax')(x) \n",
    "model = Model(input=base_model.input, output=predictions)"
   ]
  },
  {
   "cell_type": "code",
   "execution_count": 8,
   "metadata": {},
   "outputs": [],
   "source": [
    "# Compile model\n",
    "model.compile(optimizer=Adam(lr=0.001), \n",
    "              loss='categorical_crossentropy', \n",
    "              metrics=['accuracy'])\n",
    "\n",
    "# Set up callbacks\n",
    "filepath = EXPORT_DIR + \"tl_model_weights_best.hdf5\"\n",
    "checkpoint = ModelCheckpoint(filepath, \n",
    "                             monitor='val_acc', \n",
    "                             mode='max',\n",
    "                             verbose=1, \n",
    "                             save_best_only=True)    \n",
    "\n",
    "reduce_lr = ReduceLROnPlateau(monitor='val_acc', \n",
    "                              factor=0.2, \n",
    "                              patience=5, \n",
    "                              cooldown=5)\n",
    "\n",
    "csv_logger = CSVLogger('training.log')\n",
    "callbacks_list = [checkpoint, reduce_lr, csv_logger]"
   ]
  },
  {
   "cell_type": "code",
   "execution_count": 9,
   "metadata": {
    "scrolled": false
   },
   "outputs": [
    {
     "name": "stdout",
     "output_type": "stream",
     "text": [
      "Epoch 1/25\n",
      "1191/1190 [==============================] - 1798s 2s/step - loss: 0.5470 - acc: 0.8358 - val_loss: 0.5549 - val_acc: 0.8564\n",
      "\n",
      "Epoch 00001: val_acc improved from -inf to 0.85638, saving model to ./saved_models/tl_model_weights_best.hdf5\n",
      "Epoch 2/25\n",
      "1191/1190 [==============================] - 1782s 1s/step - loss: 0.2090 - acc: 0.9340 - val_loss: 0.3545 - val_acc: 0.8952\n",
      "\n",
      "Epoch 00002: val_acc improved from 0.85638 to 0.89523, saving model to ./saved_models/tl_model_weights_best.hdf5\n",
      "Epoch 3/25\n",
      "1191/1190 [==============================] - 1782s 1s/step - loss: 0.1554 - acc: 0.9504 - val_loss: 1.0756 - val_acc: 0.7627\n",
      "\n",
      "Epoch 00003: val_acc did not improve\n",
      "Epoch 4/25\n",
      "1191/1190 [==============================] - 1782s 1s/step - loss: 0.1318 - acc: 0.9573 - val_loss: 0.4190 - val_acc: 0.9085\n",
      "\n",
      "Epoch 00004: val_acc improved from 0.89523 to 0.90849, saving model to ./saved_models/tl_model_weights_best.hdf5\n",
      "Epoch 5/25\n",
      "1191/1190 [==============================] - 1781s 1s/step - loss: 0.1166 - acc: 0.9625 - val_loss: 0.0980 - val_acc: 0.9715\n",
      "\n",
      "Epoch 00005: val_acc improved from 0.90849 to 0.97151, saving model to ./saved_models/tl_model_weights_best.hdf5\n",
      "Epoch 6/25\n",
      "1191/1190 [==============================] - 1781s 1s/step - loss: 0.0995 - acc: 0.9682 - val_loss: 0.2219 - val_acc: 0.9415\n",
      "\n",
      "Epoch 00006: val_acc did not improve\n",
      "Epoch 7/25\n",
      "1191/1190 [==============================] - 1781s 1s/step - loss: 0.0895 - acc: 0.9719 - val_loss: 0.0801 - val_acc: 0.9764\n",
      "\n",
      "Epoch 00007: val_acc improved from 0.97151 to 0.97638, saving model to ./saved_models/tl_model_weights_best.hdf5\n",
      "Epoch 8/25\n",
      "1191/1190 [==============================] - 1781s 1s/step - loss: 0.0816 - acc: 0.9748 - val_loss: 0.1030 - val_acc: 0.9697\n",
      "\n",
      "Epoch 00008: val_acc did not improve\n",
      "Epoch 9/25\n",
      "1191/1190 [==============================] - 1781s 1s/step - loss: 0.0747 - acc: 0.9764 - val_loss: 0.3478 - val_acc: 0.9116\n",
      "\n",
      "Epoch 00009: val_acc did not improve\n",
      "Epoch 10/25\n",
      "1191/1190 [==============================] - 1781s 1s/step - loss: 0.0752 - acc: 0.9763 - val_loss: 0.2696 - val_acc: 0.9314\n",
      "\n",
      "Epoch 00010: val_acc did not improve\n",
      "Epoch 11/25\n",
      "1191/1190 [==============================] - 1781s 1s/step - loss: 0.0614 - acc: 0.9800 - val_loss: 0.1999 - val_acc: 0.9444\n",
      "\n",
      "Epoch 00011: val_acc did not improve\n",
      "Epoch 12/25\n",
      "1191/1190 [==============================] - 1781s 1s/step - loss: 0.0590 - acc: 0.9818 - val_loss: 1.3233 - val_acc: 0.7573\n",
      "\n",
      "Epoch 00012: val_acc did not improve\n",
      "Epoch 13/25\n",
      "1191/1190 [==============================] - 1781s 1s/step - loss: 0.0592 - acc: 0.9814 - val_loss: 0.1046 - val_acc: 0.9707\n",
      "\n",
      "Epoch 00013: val_acc did not improve\n",
      "Epoch 14/25\n",
      "1191/1190 [==============================] - 1781s 1s/step - loss: 0.0192 - acc: 0.9933 - val_loss: 0.0120 - val_acc: 0.9960\n",
      "\n",
      "Epoch 00014: val_acc improved from 0.97638 to 0.99599, saving model to ./saved_models/tl_model_weights_best.hdf5\n",
      "Epoch 15/25\n",
      "1191/1190 [==============================] - 1781s 1s/step - loss: 0.0133 - acc: 0.9956 - val_loss: 0.0108 - val_acc: 0.9967\n",
      "\n",
      "Epoch 00015: val_acc improved from 0.99599 to 0.99667, saving model to ./saved_models/tl_model_weights_best.hdf5\n",
      "Epoch 16/25\n",
      "1191/1190 [==============================] - 1781s 1s/step - loss: 0.0105 - acc: 0.9966 - val_loss: 0.0125 - val_acc: 0.9965\n",
      "\n",
      "Epoch 00016: val_acc did not improve\n",
      "Epoch 17/25\n",
      "1191/1190 [==============================] - 1781s 1s/step - loss: 0.0100 - acc: 0.9966 - val_loss: 0.0106 - val_acc: 0.9970\n",
      "\n",
      "Epoch 00017: val_acc improved from 0.99667 to 0.99704, saving model to ./saved_models/tl_model_weights_best.hdf5\n",
      "Epoch 18/25\n",
      "1191/1190 [==============================] - 1781s 1s/step - loss: 0.0083 - acc: 0.9975 - val_loss: 0.0151 - val_acc: 0.9954\n",
      "\n",
      "Epoch 00018: val_acc did not improve\n",
      "Epoch 19/25\n",
      "1191/1190 [==============================] - 1784s 1s/step - loss: 0.0109 - acc: 0.9963 - val_loss: 0.0111 - val_acc: 0.9962\n",
      "\n",
      "Epoch 00019: val_acc did not improve\n",
      "Epoch 20/25\n",
      "1191/1190 [==============================] - 1781s 1s/step - loss: 0.0089 - acc: 0.9974 - val_loss: 0.0321 - val_acc: 0.9920\n",
      "\n",
      "Epoch 00020: val_acc did not improve\n",
      "Epoch 21/25\n",
      "1191/1190 [==============================] - 1781s 1s/step - loss: 0.0105 - acc: 0.9965 - val_loss: 0.0096 - val_acc: 0.9967\n",
      "\n",
      "Epoch 00021: val_acc did not improve\n",
      "Epoch 22/25\n",
      "1191/1190 [==============================] - 1782s 1s/step - loss: 0.0083 - acc: 0.9971 - val_loss: 0.0168 - val_acc: 0.9956\n",
      "\n",
      "Epoch 00022: val_acc did not improve\n",
      "Epoch 23/25\n",
      "1191/1190 [==============================] - 1782s 1s/step - loss: 0.0086 - acc: 0.9974 - val_loss: 0.0104 - val_acc: 0.9972\n",
      "\n",
      "Epoch 00023: val_acc improved from 0.99704 to 0.99722, saving model to ./saved_models/tl_model_weights_best.hdf5\n",
      "Epoch 24/25\n",
      "1191/1190 [==============================] - 1781s 1s/step - loss: 0.0074 - acc: 0.9974 - val_loss: 0.0151 - val_acc: 0.9958\n",
      "\n",
      "Epoch 00024: val_acc did not improve\n",
      "Epoch 25/25\n",
      "1191/1190 [==============================] - 1781s 1s/step - loss: 0.0077 - acc: 0.9973 - val_loss: 0.0106 - val_acc: 0.9968\n",
      "\n",
      "Epoch 00025: val_acc did not improve\n"
     ]
    }
   ],
   "source": [
    "# Fit transfer learning model\n",
    "history = model.fit_generator(\n",
    "                train_generator,\n",
    "                epochs = NB_EPOCHS,\n",
    "                steps_per_epoch = num_train_samples / BATCH_SIZE,\n",
    "                validation_data = validation_generator,\n",
    "                validation_steps = num_val_samples / BATCH_SIZE,\n",
    "                callbacks = callbacks_list)"
   ]
  },
  {
   "cell_type": "code",
   "execution_count": 13,
   "metadata": {},
   "outputs": [
    {
     "data": {
      "image/png": "[encoded data removed]",
      "text/plain": [
       "<matplotlib.figure.Figure at 0x7f190c895080>"
      ]
     },
     "metadata": {},
     "output_type": "display_data"
    }
   ],
   "source": [
    "# Plot model accuracy by epoch\n",
    "acc = history.history['acc']\n",
    "val_acc = history.history['val_acc']\n",
    "loss = history.history['loss']\n",
    "val_loss = history.history['val_loss']\n",
    "epochs = range(len(acc))\n",
    "\n",
    "plt.figure(figsize=(10,6))\n",
    "plt.plot(epochs, acc, 'o-')\n",
    "plt.plot(epochs, val_acc, 'o-')\n",
    "plt.title('Training and validation accuracy')\n",
    "plt.show()"
   ]
  },
  {
   "cell_type": "code",
   "execution_count": 15,
   "metadata": {},
   "outputs": [
    {
     "name": "stdout",
     "output_type": "stream",
     "text": [
      "Validation accuracy: 0.9967932905478023\n"
     ]
    }
   ],
   "source": [
    "loss, acc = model.evaluate_generator(validation_generator)\n",
    "print(f\"Validation accuracy: {acc}\")"
   ]
  },
  {
   "cell_type": "code",
   "execution_count": null,
   "metadata": {},
   "outputs": [],
   "source": []
  }
 ],
 "metadata": {
  "kernelspec": {
   "display_name": "Python [default]",
   "language": "python",
   "name": "python3"
  },
  "language_info": {
   "codemirror_mode": {
    "name": "ipython",
    "version": 3
   },
   "file_extension": ".py",
   "mimetype": "text/x-python",
   "name": "python",
   "nbconvert_exporter": "python",
   "pygments_lexer": "ipython3",
   "version": "3.6.4"
  }
 },
 "nbformat": 4,
 "nbformat_minor": 2
}
